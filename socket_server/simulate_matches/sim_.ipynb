{
 "cells": [
  {
   "cell_type": "code",
   "execution_count": 3,
   "metadata": {},
   "outputs": [],
   "source": [
    "import numpy as np\n",
    "import pandas as pd"
   ]
  },
  {
   "cell_type": "code",
   "execution_count": 30,
   "metadata": {},
   "outputs": [
    {
     "data": {
      "text/plain": [
       "225"
      ]
     },
     "execution_count": 30,
     "metadata": {},
     "output_type": "execute_result"
    }
   ],
   "source": [
    "list_of_random_positions = np.random.choice(np.arange(15*15), size=(15*15), replace=False)\n",
    "random_position = np.random.choice(list_of_random_positions)\n",
    "len(list_of_random_positions)"
   ]
  },
  {
   "cell_type": "code",
   "execution_count": 8,
   "metadata": {},
   "outputs": [
    {
     "data": {
      "text/plain": [
       "15"
      ]
     },
     "execution_count": 8,
     "metadata": {},
     "output_type": "execute_result"
    }
   ],
   "source": [
    "count = 0\n",
    "arrooutter = []\n",
    "arrinner = []\n",
    "for index,item in enumerate(list_of_random_positions):\n",
    "  arrinner.append(item)\n",
    "  count += 1\n",
    "  if (count == 15):\n",
    "    arrooutter.append(arrinner.copy())\n",
    "    arrinner.clear()\n",
    "    count = 0\n",
    "len(arrooutter[0])"
   ]
  },
  {
   "cell_type": "code",
   "execution_count": 15,
   "metadata": {},
   "outputs": [],
   "source": [
    "df_positions = pd.DataFrame(arrooutter)\n",
    "json_pos = df_positions.to_excel(\"../output.xlsx\")\n",
    "json_pos"
   ]
  },
  {
   "cell_type": "code",
   "execution_count": 45,
   "metadata": {},
   "outputs": [
    {
     "data": {
      "text/plain": [
       "225"
      ]
     },
     "execution_count": 45,
     "metadata": {},
     "output_type": "execute_result"
    }
   ],
   "source": [
    "class SimulatePlayer:\n",
    "  def __init__(self):\n",
    "    # random hits for 15*15 (maximum moves in a game), si ya lo se porque pongo comentarios en ingles\n",
    "    # no lo se ajsdasjdjas suena bien cuando lo leo spngo xd\n",
    "    self.arr_random_positions = np.random.choice(np.arange(15*15), size=(15*15), replace=False) \n",
    "  \n",
    "  def expose(self):\n",
    "    return self.arr_random_positions\n",
    "  \n",
    "  def create_phase(self) :\n",
    "    create_positions = []\n",
    "    for i in range(5):\n",
    "      # selects a random pos from the array [arr_random_positions] \n",
    "      random_start_position = np.random.choice(self.arr_random_positions)\n",
    "      # select a random orientation between -1 and 1\n",
    "      # left of right\n",
    "      rlr = np.random.randint(low=-1, high=1, dtype=int) \n",
    "      # up or down\n",
    "      rud = np.random.uniform(low=-16, high=16)\n",
    "      # rlr or rud\n",
    "      orientation = np.random.uniform(low=rlr, high=rud)\n",
    "      ship_position = np.arange(start=random_start_position, stop=random_start_position+orientation*i, step=orientation)\n",
    "      create_positions.append(ship_position)      \n",
    "    return create_positions\n",
    "\n",
    "pla = SimulatePlayer()\n",
    "plalis = pla.create_phase()\n",
    "len(pla.expose())"
   ]
  }
 ],
 "metadata": {
  "kernelspec": {
   "display_name": "base",
   "language": "python",
   "name": "python3"
  },
  "language_info": {
   "codemirror_mode": {
    "name": "ipython",
    "version": 3
   },
   "file_extension": ".py",
   "mimetype": "text/x-python",
   "name": "python",
   "nbconvert_exporter": "python",
   "pygments_lexer": "ipython3",
   "version": "0.0.0"
  }
 },
 "nbformat": 4,
 "nbformat_minor": 2
}
